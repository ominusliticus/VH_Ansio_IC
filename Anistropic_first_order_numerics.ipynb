{
 "cells": [
  {
   "cell_type": "markdown",
   "metadata": {},
   "source": [
    "# Python adaptation of Mike's cpu_vah code"
   ]
  },
  {
   "cell_type": "markdown",
   "metadata": {},
   "source": [
    "Planning phase:\n",
    "1. Need to have input parameters: since this will start off as a Jupyter notebook, I will not store them in a separete file.\n",
    "1. Translate hydrodynamic evolution code to python and cut out all the unnecessary Trento and freezeout surface stuff\n",
    "1. Include an option to include both analytic solution and numberical solution for background evolution\n",
    "1. Generate plots \n",
    "\n",
    "For now I will cut out all the code dealing with nonconformal systems"
   ]
  },
  {
   "cell_type": "code",
   "execution_count": 1,
   "metadata": {},
   "outputs": [],
   "source": [
    "import sys"
   ]
  },
  {
   "cell_type": "code",
   "execution_count": 2,
   "metadata": {},
   "outputs": [],
   "source": [
    "import numpy as np\n",
    "import matplotlib.pyplot as plt\n",
    "import matplotlib.ticker as tck\n",
    "\n",
    "%matplotlib inline\n",
    "plt.style.use('classic')"
   ]
  },
  {
   "cell_type": "code",
   "execution_count": 3,
   "metadata": {},
   "outputs": [],
   "source": [
    "import matplotlib.font_manager\n",
    "from matplotlib import rc\n",
    "rc('font',**{'family':'serif','serif':['Computer Modern Roman']})\n",
    "rc('text', usetex=True)"
   ]
  },
  {
   "cell_type": "code",
   "execution_count": 4,
   "metadata": {},
   "outputs": [],
   "source": [
    "from hydro_simulation import Hydro_Sim, hydro_parameters, lattice_parameters\n",
    "from hydro_model import Hydro_Model"
   ]
  },
  {
   "cell_type": "code",
   "execution_count": 5,
   "metadata": {},
   "outputs": [],
   "source": [
    "# Hydro model to use\n",
    "hydro_model = 1        # 1 - Mueller-Israel-Stewart Theory\n",
    "                       # 2 - MIS with linear fluctations"
   ]
  },
  {
   "cell_type": "code",
   "execution_count": 6,
   "metadata": {},
   "outputs": [],
   "source": [
    "# input parameters for hydro calculations\n",
    "# =============================\n",
    "''' Viscosity parameters '''\n",
    "g_etas_aL       = -0.776   # a_low [GeV^-1],         default: -0.778\n",
    "g_etas_aH       = 0.37     # a_high [GeV^-1]         default: 0.37\n",
    "g_etas_Tk_GeV   = 0.223    # T_eta [GeV]             default: 0.223\n",
    "g_etas_etask    = 0.096    # (eta/s)_kink            default: 0.096\n",
    "g_etas_min      = 0.01     # lower cutoff (eta/s)(T) default: 0.01\n",
    "g_constant_etas = 0.2      # value for eta/s = const defualt: 0.2\n",
    "g_eta_bar       = 5 / (4 * np.pi)\n",
    "\n",
    "''' Hydrodynamic parameters '''\n",
    "g_tau_initial               = 0.125   # start time [fm/c]             default: 0.05\n",
    "g_freezeout_temperature_GeV = 0.136   # stop temp [GeV]               default: 0.136\n",
    "g_temperature_etas          = 1       # shear viscosity model\n",
    "                                      # 0: const, 1: temperature dep  default: 1\n",
    "g_energy_initial            = 15.     # initial energy density [GeV]  default: 15\n",
    "g_shear_initial             = 0.314   # initial shear stress [GeV]    defautl: 0.314\n",
    "g_energy_min                = 1.0e-1  # energy density cutoff [fm^-4] default: 1.e-1\n",
    "g_flux_limiter              = 1.8     # flux limiter in KT algo       default: 1.8\n",
    "g_regulation_scheme         = 1       # switch for regulation scheme  default: 1\n",
    "g_dynamical_variables       = 14      # components of Tmn that evolve default: 14\n",
    "                                      # number of components for hydro_variables class\n",
    "\n",
    "''' Spatial grid and time step '''\n",
    "g_lattice_points_x    = 129     # custum grid point Nx           default: 281\n",
    "g_lattice_points_y    = 129     # costum grid point Ny           default: 281\n",
    "g_lattice_points_eta  = 63      # costum grid point Neta         default: 1\n",
    "g_lattice_spacing_x   = 0.1     # costum lattice spacing dx [fm] default: 0.1\n",
    "g_lattice_spacing_y   = 0.1     # costum lattice spacing dy [fm] default: 0.1\n",
    "g_lattice_spacing_eta = 0.1     # costum lattice space deta [1]  default: 0.1\n",
    "g_adaptive_time_step  = 1       # switch for adaptive time step  \n",
    "                                # 1: on, 0: off                  default: 1\n",
    "g_delta_0             = 0.004   # control for adaptive time step default: 0.004 \n",
    "g_alpha               = 0.5     # control for adaptive time step default: 0.5\n",
    "g_fixed_time_step     = 0.0125  # value for dt = const [fm/c]    default: 0.0125\n",
    "g_max_time_steps      = 2000    # code fails if exceeded         default: 2000"
   ]
  },
  {
   "cell_type": "code",
   "execution_count": 7,
   "metadata": {},
   "outputs": [],
   "source": [
    "hydro = hydro_parameters(g_tau_initial,\n",
    "                         g_energy_initial,\n",
    "                         g_shear_initial,\n",
    "                         g_freezeout_temperature_GeV,\n",
    "                         g_energy_min,\n",
    "                         g_flux_limiter,\n",
    "                         g_regulation_scheme,\n",
    "                         g_dynamical_variables,\n",
    "                         g_temperature_etas,\n",
    "                         g_eta_bar,\n",
    "                         g_constant_etas,\n",
    "                         g_etas_min,\n",
    "                         g_etas_aL,\n",
    "                         g_etas_aH,\n",
    "                         g_etas_etask,\n",
    "                         g_etas_Tk_GeV)\n",
    "\n",
    "lattice = lattice_parameters(g_lattice_points_x,\n",
    "                             g_lattice_points_y,\n",
    "                             g_lattice_points_eta,\n",
    "                             g_lattice_spacing_x,\n",
    "                             g_lattice_spacing_y,\n",
    "                             g_lattice_spacing_eta,\n",
    "                             g_adaptive_time_step,\n",
    "                             g_delta_0,\n",
    "                             g_alpha,\n",
    "                             g_fixed_time_step,\n",
    "                             g_max_time_steps)"
   ]
  },
  {
   "cell_type": "code",
   "execution_count": 8,
   "metadata": {},
   "outputs": [],
   "source": [
    "model = Hydro_Model(model_flag=hydro_model, eta_s=hydro.eta_bar)\n",
    "sim = Hydro_Sim(hydro=hydro, lattice=lattice)"
   ]
  },
  {
   "cell_type": "code",
   "execution_count": null,
   "metadata": {},
   "outputs": [
    {
     "name": "stdout",
     "output_type": "stream",
     "text": [
      "Begin simulation.\n",
      "Allocating memory.\n",
      "Setting inital conditions.\n",
      "Time step: 0\n"
     ]
    }
   ],
   "source": [
    "%%time\n",
    "sim.run_hydro(model)"
   ]
  },
  {
   "cell_type": "code",
   "execution_count": null,
   "metadata": {},
   "outputs": [],
   "source": []
  }
 ],
 "metadata": {
  "kernelspec": {
   "display_name": "Python 3",
   "language": "python",
   "name": "python3"
  },
  "language_info": {
   "codemirror_mode": {
    "name": "ipython",
    "version": 3
   },
   "file_extension": ".py",
   "mimetype": "text/x-python",
   "name": "python",
   "nbconvert_exporter": "python",
   "pygments_lexer": "ipython3",
   "version": "3.7.3"
  }
 },
 "nbformat": 4,
 "nbformat_minor": 4
}
