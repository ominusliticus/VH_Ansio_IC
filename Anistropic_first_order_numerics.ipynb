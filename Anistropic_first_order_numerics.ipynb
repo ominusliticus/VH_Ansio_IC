{
 "cells": [
  {
   "cell_type": "markdown",
   "metadata": {},
   "source": [
    "# Python adaptation of Mike's cpu_vah code"
   ]
  },
  {
   "cell_type": "markdown",
   "metadata": {},
   "source": [
    "Planning phase:\n",
    "1. Need to have input parameters: since this will start off as a Jupyter notebook, I will not store them in a separete file.\n",
    "1. Translate hydrodynamic evolution code to python and cut out all the unnecessary Trento and freezeout surface stuff\n",
    "1. Include an option to include both analytic solution and numberical solution for background evolution\n",
    "1. Generate plots \n",
    "\n",
    "For now I will cut out all the code dealing with nonconformal systems"
   ]
  },
  {
   "cell_type": "code",
   "execution_count": 1,
   "metadata": {},
   "outputs": [],
   "source": [
    "import sys"
   ]
  },
  {
   "cell_type": "code",
   "execution_count": 2,
   "metadata": {},
   "outputs": [],
   "source": [
    "import numpy as np\n",
    "import matplotlib.pyplot as plt\n",
    "import matplotlib.ticker as tck\n",
    "\n",
    "%matplotlib inline\n",
    "plt.style.use('classic')"
   ]
  },
  {
   "cell_type": "code",
   "execution_count": 3,
   "metadata": {},
   "outputs": [],
   "source": [
    "import matplotlib.font_manager\n",
    "from matplotlib import rc\n",
    "rc('font',**{'family':'serif','serif':['Computer Modern Roman']})\n",
    "rc('text', usetex=True)"
   ]
  },
  {
   "cell_type": "code",
   "execution_count": 4,
   "metadata": {},
   "outputs": [],
   "source": [
    "from hydro_simulation import Hydro_Sim, hydro_parameters, lattice_parameters\n",
    "from hydro_model import Hydro_Model"
   ]
  },
  {
   "cell_type": "code",
   "execution_count": 5,
   "metadata": {},
   "outputs": [],
   "source": [
    "# Hydro model to use\n",
    "hydro_model = 1        # 1 - Mueller-Israel-Stewart Theory\n",
    "                       # 2 - MIS with linear fluctations"
   ]
  },
  {
   "cell_type": "code",
   "execution_count": 6,
   "metadata": {},
   "outputs": [],
   "source": [
    "# input parameters for hydro calculations\n",
    "# =============================\n",
    "''' Viscosity parameters '''\n",
    "g_etas_aL       = -0.776   # a_low [GeV^-1],         default: -0.778\n",
    "g_etas_aH       = 0.37     # a_high [GeV^-1]         default: 0.37\n",
    "g_etas_Tk_GeV   = 0.223    # T_eta [GeV]             default: 0.223\n",
    "g_etas_etask    = 0.096    # (eta/s)_kink            default: 0.096\n",
    "g_etas_min      = 0.01     # lower cutoff (eta/s)(T) default: 0.01\n",
    "g_constant_etas = 0.2      # value for eta/s = const defualt: 0.2\n",
    "g_eta_bar       = 5 / (4 * np.pi)\n",
    "\n",
    "''' Hydrodynamic parameters '''\n",
    "g_tau_initial               = 0.125   # start time [fm/c]             default: 0.05\n",
    "g_freezeout_temperature_GeV = 0.136   # stop temp [GeV]               default: 0.136\n",
    "g_temperature_etas          = 1       # shear viscosity model\n",
    "                                      # 0: const, 1: temperature dep  default: 1\n",
    "g_energy_initial            = 15.     # initial energy density [GeV]  default: 15\n",
    "g_shear_initial             = 0.314   # initial shear stress [GeV]    defautl: 0.314\n",
    "g_energy_min                = 1.0e-1  # energy density cutoff [fm^-4] default: 1.e-1\n",
    "g_flux_limiter              = 1.8     # flux limiter in KT algo       default: 1.8\n",
    "g_regulation_scheme         = 1       # switch for regulation scheme  default: 1\n",
    "g_dynamical_variables       = 14      # components of Tmn that evolve default: 14\n",
    "                                      # number of components for hydro_variables class\n",
    "\n",
    "''' Spatial grid and time step '''\n",
    "g_lattice_points_x    = 5       # custum grid point Nx           default: 281\n",
    "g_lattice_points_y    = 5       # costum grid point Ny           default: 281\n",
    "g_lattice_points_eta  = 5       # costum grid point Neta         default: 1\n",
    "g_lattice_spacing_x   = 0.1     # costum lattice spacing dx [fm] default: 0.1\n",
    "g_lattice_spacing_y   = 0.1     # costum lattice spacing dy [fm] default: 0.1\n",
    "g_lattice_spacing_eta = 0.1     # costum lattice space deta [1]  default: 0.1\n",
    "g_adaptive_time_step  = 1       # switch for adaptive time step  \n",
    "                                # 1: on, 0: off                  default: 1\n",
    "g_delta_0             = 0.004   # control for adaptive time step default: 0.004 \n",
    "g_alpha               = 0.5     # control for adaptive time step default: 0.5\n",
    "g_fixed_time_step     = 0.0125  # value for dt = const [fm/c]    default: 0.0125\n",
    "g_max_time_steps      = 2000    # code fails if exceeded         default: 2000\n",
    "g_alpha               = 0.5     # safety parameter for time step default: 0.5 \\in [0,1]\n",
    "g_delta_0             = 0.004   # error tolerance                default: 0.004"
   ]
  },
  {
   "cell_type": "code",
   "execution_count": 7,
   "metadata": {},
   "outputs": [],
   "source": [
    "hydro = hydro_parameters(\n",
    "    g_tau_initial,\n",
    "    g_energy_initial,\n",
    "    g_shear_initial,\n",
    "    g_freezeout_temperature_GeV,\n",
    "    g_energy_min,\n",
    "    g_flux_limiter,\n",
    "    g_regulation_scheme,\n",
    "    g_dynamical_variables,\n",
    "    g_temperature_etas,\n",
    "    g_eta_bar,\n",
    "    g_constant_etas,\n",
    "    g_etas_min,\n",
    "    g_etas_aL,\n",
    "    g_etas_aH,\n",
    "    g_etas_etask,\n",
    "    g_etas_Tk_GeV\n",
    ")\n",
    "\n",
    "lattice = lattice_parameters(\n",
    "    g_lattice_points_x,\n",
    "    g_lattice_points_y,\n",
    "    g_lattice_points_eta,\n",
    "    g_lattice_spacing_x,\n",
    "    g_lattice_spacing_y,\n",
    "    g_lattice_spacing_eta,\n",
    "    g_adaptive_time_step,\n",
    "    g_delta_0,\n",
    "    g_alpha,\n",
    "    g_fixed_time_step,\n",
    "    g_max_time_steps,\n",
    ")"
   ]
  },
  {
   "cell_type": "code",
   "execution_count": 8,
   "metadata": {},
   "outputs": [],
   "source": [
    "model = Hydro_Model(model_flag=hydro_model, eta_s=hydro.eta_bar)\n",
    "sim = Hydro_Sim(hydro=hydro, lattice=lattice)"
   ]
  },
  {
   "cell_type": "code",
   "execution_count": null,
   "metadata": {
    "scrolled": false
   },
   "outputs": [
    {
     "name": "stdout",
     "output_type": "stream",
     "text": [
      "Begin simulation.\n",
      "Allocating memory.\n",
      "Setting inital conditions.\n",
      "Time step: 0\n",
      "Time step: 1\n"
     ]
    },
    {
     "name": "stderr",
     "output_type": "stream",
     "text": [
      "C:\\Users\\gil-c\\Documents\\Heinz_Research\\TeX-Docs\\Rough-Drafts\\Anisotropic-Dispersion-Relations\\Code\\VH_Aniso_IC\\hydro_simulation.py:1159: RuntimeWarning: divide by zero encountered in double_scalars\n",
      "  dt_CFL = np.fmin(dt_CFL, np.fmin(dx / ax, np.fmin(dy / ay, deta / an)))\n"
     ]
    },
    {
     "name": "stdout",
     "output_type": "stream",
     "text": [
      "Time step: 2\n",
      "Time step: 3\n",
      "Time step: 4\n",
      "Time step: 5\n",
      "Time step: 6\n",
      "Time step: 7\n",
      "Time step: 8\n",
      "Time step: 9\n",
      "Time step: 10\n",
      "Time step: 11\n",
      "Time step: 12\n",
      "Time step: 13\n",
      "Time step: 14\n",
      "Time step: 15\n",
      "Time step: 16\n",
      "Time step: 17\n",
      "Time step: 18\n",
      "Time step: 19\n",
      "Time step: 20\n",
      "Time step: 21\n",
      "Time step: 22\n",
      "Time step: 23\n",
      "Time step: 24\n",
      "Time step: 25\n",
      "Time step: 26\n",
      "Time step: 27\n",
      "Time step: 28\n",
      "Time step: 29\n",
      "Time step: 30\n",
      "Time step: 31\n",
      "Time step: 32\n",
      "Time step: 33\n",
      "Time step: 34\n",
      "Time step: 35\n",
      "Time step: 36\n",
      "Time step: 37\n",
      "Time step: 38\n",
      "Time step: 39\n",
      "Time step: 40\n",
      "Time step: 41\n",
      "Time step: 42\n",
      "Time step: 43\n",
      "Time step: 44\n",
      "Time step: 45\n",
      "Time step: 46\n",
      "Time step: 47\n",
      "Time step: 48\n",
      "Time step: 49\n",
      "Time step: 50\n",
      "Time step: 51\n",
      "Time step: 52\n",
      "Time step: 53\n",
      "Time step: 54\n",
      "Time step: 55\n",
      "Time step: 56\n",
      "Time step: 57\n",
      "Time step: 58\n",
      "Time step: 59\n",
      "Time step: 60\n",
      "Time step: 61\n",
      "Time step: 62\n"
     ]
    }
   ],
   "source": [
    "%%time\n",
    "sim.run_hydro(model)"
   ]
  },
  {
   "cell_type": "code",
   "execution_count": null,
   "metadata": {},
   "outputs": [],
   "source": []
  },
  {
   "cell_type": "code",
   "execution_count": null,
   "metadata": {},
   "outputs": [],
   "source": []
  }
 ],
 "metadata": {
  "kernelspec": {
   "display_name": "Python 3",
   "language": "python",
   "name": "python3"
  },
  "language_info": {
   "codemirror_mode": {
    "name": "ipython",
    "version": 3
   },
   "file_extension": ".py",
   "mimetype": "text/x-python",
   "name": "python",
   "nbconvert_exporter": "python",
   "pygments_lexer": "ipython3",
   "version": "3.7.3"
  }
 },
 "nbformat": 4,
 "nbformat_minor": 4
}
