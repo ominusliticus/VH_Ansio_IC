{
 "cells": [
  {
   "cell_type": "code",
   "execution_count": 3,
   "metadata": {},
   "outputs": [],
   "source": [
    "import numpy as np\n",
    "import matplotlib.pyplot as plt\n",
    "import matplotlib.ticker as tck\n",
    "\n",
    "%matplotlib inline\n",
    "plt.style.use('classic')"
   ]
  },
  {
   "cell_type": "code",
   "execution_count": 2,
   "metadata": {},
   "outputs": [],
   "source": [
    "import matplotlib.font_manager\n",
    "from matplotlib import rc\n",
    "rc('font',**{'family':'serif','serif':['Computer Modern Roman']})\n",
    "rc('text', usetex=True)"
   ]
  },
  {
   "cell_type": "markdown",
   "metadata": {},
   "source": [
    "The background evolution equations are \n",
    "\\begin{align}\n",
    "    0 & = \\frac{d\\varepsilon_0}{d\\tau} + \\frac{1}{\\tau}(1+c_s^2)\\varepsilon_0\n",
    "    -\\frac{1}{\\tau} \\pi_0 \\\\\n",
    "    %\n",
    "    0 & = \\frac{d\\pi_0}{d\\tau} + \\frac{1}{\\tau_\\pi}\\pi_0\n",
    "    + \\frac{1+c_s^2}{\\tau}\\pi_0\n",
    "    - \\frac{4}{5\\tau}c_s^2\\varepsilon_0.\n",
    "\\end{align}\n",
    "Here $\\tau_{\\pi,0} = 5\\bar{\\eta}_0/T_0$ where $\\bar{\\eta}_0 = \\eta_0/\\mathcal{S}_0$ is a constant and $\\mathcal{S}_0$ is\n",
    "the background entropy density.\n",
    "$T_0$ is the temperature, and is related to the energy density by $T_0 = \\sqrt[4]{\\pi^2 \\varepsilon_0 /3g}$, where \n",
    "$$ \n",
    "    g = \\frac{\\pi^4}{90}\\left[2(N_c^2 - 1) + \\frac{7}{2} N_c N_f\\right]\n",
    "$$\n",
    "These can be solved using a simple RK4 time integration:\n",
    "For ordinary differential equation of the form \n",
    "$$ \\frac{dy}{dt} = f(y, t) $$\n",
    "Let $y_0 = y(t_0)$, then the RK4 method calculates the time integration as follows:\n",
    "\\begin{align*}\n",
    "    k_1 &= f\\left(y_0, t_0 \\right) \\\\\n",
    "    k_2 & = f\\left( y_0 + \\frac{1}{2} k_1 \\Delta t , t_0 + \\frac{1}{2}\\Delta t\\right) \\\\\n",
    "    k_3 & = f\\left(y_0 + \\frac{1}{2} k_2 \\Delta t , t_0 + \\frac{1}{2}\\Delta t\\right) \\\\\n",
    "    k_4 & = f\\left(y_0 + k_3 \\Delta t , t_0 + h\\right) \\\\\n",
    "    y(t_0 + \\Delta t) & = y(t_0) + \\frac{1}{6}\\left(k_1 + 2 k_2 + 2 k_3 + k_4 \\right) \n",
    "\\end{align*}"
   ]
  },
  {
   "cell_type": "code",
   "execution_count": 3,
   "metadata": {},
   "outputs": [],
   "source": [
    "# Set up some values for numerical integration\n",
    "steps = int(5e2)\n",
    "veps_0 = np.zeros(steps)\n",
    "pi_0 = np.zeros(steps)\n",
    "tau = np.linspace(0.125, 15, steps) # GeV^-1\n",
    "dtau = tau[1] - tau[0]\n",
    "\n",
    "# initializations\n",
    "#init_veps_0 = np.array([1, 2, 4, 8, 16, 32, 64, 128]) # GeV / fm^3\n",
    "init_veps_0 = np.array([15])\n",
    "init_pi_0 = np.array([0.314])\n",
    "\n",
    "# setting constant, but can be more complicated\n",
    "#tau_pi = 2 # GeV^-1 \n",
    "g_eta_bar = 5 / (4 * np.pi)\n",
    "cs2 = 1 / 3"
   ]
  },
  {
   "cell_type": "code",
   "execution_count": 24,
   "metadata": {},
   "outputs": [
    {
     "data": {
      "text/plain": [
       "0.029809619238476942"
      ]
     },
     "execution_count": 24,
     "metadata": {},
     "output_type": "execute_result"
    }
   ],
   "source": [
    "dtau"
   ]
  },
  {
   "cell_type": "code",
   "execution_count": 4,
   "metadata": {},
   "outputs": [],
   "source": [
    "def dveps_dtau(tau, veps, pi):\n",
    "    return - ((1 + cs2) * veps - pi) / tau\n",
    "\n",
    "def dpi_dtau(tau, veps, pi):\n",
    "    tau_pi = 5 / (4 * np.pi ) * (30 * veps / np.pi ** 2 / (2 * (3 ** 2 - 1) + 3.5 * 3 * 3)) ** (0.25)\n",
    "    return  - (1 / tau_pi + (1 + cs2) / tau) * pi + 16 * cs2 * veps / (15 * tau)"
   ]
  },
  {
   "cell_type": "code",
   "execution_count": 5,
   "metadata": {
    "scrolled": false
   },
   "outputs": [
    {
     "data": {
      "image/png": "[encoded data removed]",
      "text/plain": [
       "<Figure size 800x560 with 1 Axes>"
      ]
     },
     "metadata": {},
     "output_type": "display_data"
    }
   ],
   "source": [
    "L = len(init_veps_0)\n",
    "fig, ax = plt.subplots(L, L, figsize=(L*10,L*7))\n",
    "fig.patch.set_facecolor('white')\n",
    "\n",
    "for j, vep in enumerate(init_veps_0):\n",
    "    for k, pi in enumerate(init_pi_0):\n",
    "        #inital condiditions\n",
    "        veps_0[0] = vep\n",
    "        pi_0[0] = pi\n",
    "        \n",
    "        # calculate RK4 \n",
    "        for i in range(1, steps):\n",
    "            k1 = dveps_dtau(tau[i-1], veps_0[i-1], pi_0[i-1])\n",
    "            l1 = dpi_dtau(tau[i-1], veps_0[i-1], pi_0[i-1])\n",
    "            \n",
    "            k2 = dveps_dtau(tau[i-1] + dtau / 2, veps_0[i-1] + k1 * dtau /2, pi_0[i-1] + l1 * dtau / 2)\n",
    "            l2 = dpi_dtau(tau[i-1] + dtau / 2, veps_0[i-1] + k1 * dtau /2, pi_0[i-1] + l1 * dtau / 2)\n",
    "            \n",
    "            k3 = dveps_dtau(tau[i-1] + dtau / 2, veps_0[i-1] + k2 * dtau /2, pi_0[i-1] + l2 * dtau / 2)\n",
    "            l3 = dpi_dtau(tau[i-1] + dtau / 2, veps_0[i-1] + k2 * dtau /2, pi_0[i-1] + l2 * dtau / 2)\n",
    "            \n",
    "            k4 = dveps_dtau(tau[i-1] + dtau, veps_0[i-1] + k3 * dtau, pi_0[i-1] + l3 * dtau)\n",
    "            l4 = dpi_dtau(tau[i-1] + dtau, veps_0[i-1] + k3 * dtau, pi_0[i-1] + l3 * dtau)\n",
    "            \n",
    "            veps_0[i] = veps_0[i-1] + (k1 + 2*k2 + 2*k3 + k4) * dtau / 6 \n",
    "            pi_0[i] = pi_0[i-1] + (l1 + 2*l2 + 2*l3 + l4) * dtau / 6\n",
    "            \n",
    "        if L > 1:    \n",
    "            ax[j, k].plot(tau, veps_0, color='blue', lw=2)\n",
    "            ax[j, k].plot(tau, pi_0, color='red', lw=2)\n",
    "            ax[j, k].set_xlabel(r'$\\tau$ [GeV$^{-1}$]', fontsize=25)\n",
    "            ax[j, k].set_ylabel(r'$\\varepsilon_0, \\pi_0$ [GeV]', fontsize=25)\n",
    "            ax[j, k].tick_params(axis='both', labelsize=18)\n",
    "            ax[j, k].tick_params(axis='both', which='major', length=8)\n",
    "            ax[j, k].xaxis.set_minor_locator(tck.AutoMinorLocator())\n",
    "            ax[j, k].yaxis.set_minor_locator(tck.AutoMinorLocator())\n",
    "            ax[j, k].tick_params(axis='both', which='minor', direction='in', length=4)\n",
    "        else:\n",
    "            ax.plot(tau, veps_0, color='blue', lw=2)\n",
    "            ax.plot(tau, pi_0, color='red', lw=2)\n",
    "            ax.set_xlabel(r'$\\tau$ [GeV$^{-1}$]', fontsize=25)\n",
    "            ax.set_ylabel(r'$\\varepsilon_0, \\pi_0$ [GeV]', fontsize=25)\n",
    "            ax.tick_params(axis='both', labelsize=18)\n",
    "            ax.tick_params(axis='both', which='major', length=8)\n",
    "            ax.xaxis.set_minor_locator(tck.AutoMinorLocator())\n",
    "            ax.yaxis.set_minor_locator(tck.AutoMinorLocator())\n",
    "            ax.tick_params(axis='both', which='minor', direction='in', length=4)"
   ]
  },
  {
   "cell_type": "code",
   "execution_count": 36,
   "metadata": {},
   "outputs": [],
   "source": [
    "?range"
   ]
  },
  {
   "cell_type": "code",
   "execution_count": null,
   "metadata": {},
   "outputs": [],
   "source": []
  },
  {
   "cell_type": "code",
   "execution_count": null,
   "metadata": {},
   "outputs": [],
   "source": []
  },
  {
   "cell_type": "code",
   "execution_count": null,
   "metadata": {},
   "outputs": [],
   "source": []
  },
  {
   "cell_type": "code",
   "execution_count": null,
   "metadata": {},
   "outputs": [],
   "source": []
  },
  {
   "cell_type": "markdown",
   "metadata": {},
   "source": [
    "# Python adaptation of Mike's cpu_vah code"
   ]
  },
  {
   "cell_type": "markdown",
   "metadata": {},
   "source": [
    "Planning phase:\n",
    "1. Need to have input parameters: since this will start off as a Jupyter notebook, I will not store them in a separete file.\n",
    "1. Translate hydrodynamic evolution code to python and cut out all the unnecessary Trento and freezeout surface stuff\n",
    "1. Include an option to include both analytic solution and numberical solution for background evolution\n",
    "1. Generate plots \n",
    "\n",
    "For now I will cut out all the code dealing with nonconformal systems"
   ]
  },
  {
   "cell_type": "code",
   "execution_count": 1,
   "metadata": {},
   "outputs": [],
   "source": [
    "import sys"
   ]
  },
  {
   "cell_type": "code",
   "execution_count": 2,
   "metadata": {},
   "outputs": [],
   "source": [
    "import numpy as np\n",
    "import matplotlib.pyplot as plt\n",
    "import matplotlib.ticker as tck\n",
    "\n",
    "%matplotlib inline\n",
    "plt.style.use('classic')"
   ]
  },
  {
   "cell_type": "code",
   "execution_count": 3,
   "metadata": {},
   "outputs": [],
   "source": [
    "import matplotlib.font_manager\n",
    "from matplotlib import rc\n",
    "rc('font',**{'family':'serif','serif':['Computer Modern Roman']})\n",
    "rc('text', usetex=True)"
   ]
  },
  {
   "cell_type": "code",
   "execution_count": 4,
   "metadata": {},
   "outputs": [],
   "source": [
    "from hydro_simulation import Hydro_Sim, hydro_parameters, lattice_parameters\n",
    "from hydro_model import Hydro_Model"
   ]
  },
  {
   "cell_type": "code",
   "execution_count": 5,
   "metadata": {},
   "outputs": [],
   "source": [
    "# Hydro model to use\n",
    "hydro_model = 1        # 1 - Mueller-Israel-Stewart Theory"
   ]
  },
  {
   "cell_type": "code",
   "execution_count": 6,
   "metadata": {},
   "outputs": [],
   "source": [
    "# input parameters for hydro calculations\n",
    "# =============================\n",
    "''' Viscosity parameters '''\n",
    "g_etas_aL       = -0.776   # a_low [GeV^-1],         default: -0.778\n",
    "g_etas_aH       = 0.37     # a_high [GeV^-1]         default: 0.37\n",
    "g_etas_Tk_GeV   = 0.223    # T_eta [GeV]             default: 0.223\n",
    "g_etas_etask    = 0.096    # (eta/s)_kink            default: 0.096\n",
    "g_etas_min      = 0.01     # lower cutoff (eta/s)(T) default: 0.01\n",
    "g_constant_etas = 0.2      # value for eta/s = const defualt: 0.2\n",
    "g_eta_bar       = 5 / (4 * np.pi)\n",
    "\n",
    "''' Hydrodynamic parameters '''\n",
    "g_tau_initial               = 0.125   # start time [fm/c]             default: 0.05\n",
    "g_freezeout_temperature_GeV = 0.136   # stop temp [GeV]               default: 0.136\n",
    "g_temperature_etas          = 1       # shear viscosity model\n",
    "                                      # 0: const, 1: temperature dep  default: 1\n",
    "g_energy_initial            = 15.     # initial energy density [GeV]  default: 15\n",
    "g_shear_initial             = 0.314   # initial shear stress [GeV]    defautl: 0.314\n",
    "g_energy_min                = 1.0e-1  # energy density cutoff [fm^-4] default: 1.e-1\n",
    "g_flux_limiter              = 1.8     # flux limiter in KT algo       default: 1.8\n",
    "g_regulation_scheme         = 1       # switch for regulation scheme  default: 1\n",
    "g_dynamical_variables       = 14      # components of Tmn that evolve default: 14\n",
    "                                      # number of components for hydro_variables class\n",
    "\n",
    "''' Spatial grid and time step '''\n",
    "g_lattice_points_x    = 129     # custum grid point Nx           default: 281\n",
    "g_lattice_points_y    = 129     # costum grid point Ny           default: 281\n",
    "g_lattice_points_eta  = 63      # costum grid point Neta         default: 1\n",
    "g_lattice_spacing_x   = 0.1     # costum lattice spacing dx [fm] default: 0.1\n",
    "g_lattice_spacing_y   = 0.1     # costum lattice spacing dy [fm] default: 0.1\n",
    "g_lattice_spacing_eta = 0.1     # costum lattice space deta [1]  default: 0.1\n",
    "g_adaptive_time_step  = 1       # switch for adaptive time step  \n",
    "                                # 1: on, 0: off                  default: 1\n",
    "g_delta_0             = 0.004   # control for adaptive time step default: 0.004 \n",
    "g_alpha               = 0.5     # control for adaptive time step default: 0.5\n",
    "g_fixed_time_step     = 0.0125  # value for dt = const [fm/c]    default: 0.0125\n",
    "g_max_time_steps      = 2000    # code fails if exceeded         default: 2000"
   ]
  },
  {
   "cell_type": "code",
   "execution_count": 7,
   "metadata": {},
   "outputs": [],
   "source": [
    "hydro = hydro_parameters(g_tau_initial,\n",
    "                         g_energy_initial,\n",
    "                         g_shear_initial,\n",
    "                         g_freezeout_temperature_GeV,\n",
    "                         g_energy_min,\n",
    "                         g_flux_limiter,\n",
    "                         g_regulation_scheme,\n",
    "                         g_dynamical_variables,\n",
    "                         g_temperature_etas,\n",
    "                         g_eta_bar,\n",
    "                         g_constant_etas,\n",
    "                         g_etas_min,\n",
    "                         g_etas_aL,\n",
    "                         g_etas_aH,\n",
    "                         g_etas_etask,\n",
    "                         g_etas_Tk_GeV)\n",
    "\n",
    "lattice = lattice_parameters(g_lattice_points_x,\n",
    "                             g_lattice_points_y,\n",
    "                             g_lattice_points_eta,\n",
    "                             g_lattice_spacing_x,\n",
    "                             g_lattice_spacing_y,\n",
    "                             g_lattice_spacing_eta,\n",
    "                             g_adaptive_time_step,\n",
    "                             g_delta_0,\n",
    "                             g_alpha,\n",
    "                             g_fixed_time_step,\n",
    "                             g_max_time_steps)"
   ]
  },
  {
   "cell_type": "code",
   "execution_count": 8,
   "metadata": {},
   "outputs": [],
   "source": [
    "model = Hydro_Model(model_flag=1, eta_s=hydro.eta_bar)\n",
    "sim = Hydro_Sim(hydro=hydro, lattice=lattice)"
   ]
  },
  {
   "cell_type": "code",
   "execution_count": null,
   "metadata": {},
   "outputs": [
    {
     "name": "stdout",
     "output_type": "stream",
     "text": [
      "Begin simulation.\n",
      "Allocating memory.\n",
      "Setting inital conditions.\n",
      "Time step: 0\n"
     ]
    }
   ],
   "source": [
    "%%time\n",
    "sim.run_hydro(model)"
   ]
  },
  {
   "cell_type": "code",
   "execution_count": null,
   "metadata": {},
   "outputs": [],
   "source": []
  }
 ],
 "metadata": {
  "kernelspec": {
   "display_name": "Python 3",
   "language": "python",
   "name": "python3"
  },
  "language_info": {
   "codemirror_mode": {
    "name": "ipython",
    "version": 3
   },
   "file_extension": ".py",
   "mimetype": "text/x-python",
   "name": "python",
   "nbconvert_exporter": "python",
   "pygments_lexer": "ipython3",
   "version": "3.7.3"
  }
 },
 "nbformat": 4,
 "nbformat_minor": 4
}
